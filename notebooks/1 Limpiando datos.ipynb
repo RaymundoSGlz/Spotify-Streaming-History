{
 "cells": [
  {
   "cell_type": "markdown",
   "metadata": {},
   "source": [
    "# 1. Limpieza y preparación de los datos"
   ]
  },
  {
   "cell_type": "markdown",
   "metadata": {},
   "source": [
    "El directorio `data/preprocessed` contiene los datos preprocesados. Es decir los datos que fueron transformados a un formato más conveniente para su uso y unidos en un solo archivo.\n",
    "\n",
    "En este caso, los datos fueron transformados a un formato `csv` utilizando el script: `scripts/Data Transformation.r`."
   ]
  },
  {
   "cell_type": "code",
   "execution_count": 1,
   "metadata": {
    "vscode": {
     "languageId": "r"
    }
   },
   "outputs": [
    {
     "name": "stderr",
     "output_type": "stream",
     "text": [
      "\n",
      "Attaching package: 'dplyr'\n",
      "\n",
      "\n",
      "The following objects are masked from 'package:stats':\n",
      "\n",
      "    filter, lag\n",
      "\n",
      "\n",
      "The following objects are masked from 'package:base':\n",
      "\n",
      "    intersect, setdiff, setequal, union\n",
      "\n",
      "\n",
      "\n",
      "Attaching package: 'lubridate'\n",
      "\n",
      "\n",
      "The following objects are masked from 'package:base':\n",
      "\n",
      "    date, intersect, setdiff, union\n",
      "\n",
      "\n"
     ]
    }
   ],
   "source": [
    "# Cargamos las librerías necesarias\n",
    "library(readr) # Para leer archivos\n",
    "library(dplyr) # Para manipulación de datos\n",
    "library(lubridate) # Para manipulación de fechas"
   ]
  },
  {
   "cell_type": "markdown",
   "metadata": {},
   "source": [
    "## 1.1 Importando los datos"
   ]
  },
  {
   "cell_type": "markdown",
   "metadata": {},
   "source": [
    "Usaremos la función `read_csv` del paquete `readr` para leer el archivo `data.csv`.\n",
    "\n",
    "Ya que nos ofrece la facilidad de definir el tipo de dato de cada columna de forma automática (también es posible definirla de forma manual de ser necesario).\n",
    "\n",
    "Puede encontrar más información en los siguientes enlaces:\n",
    "- [read_csv](https://readr.tidyverse.org/reference/read_delim.html)\n",
    "- [readr](https://readr.tidyverse.org/)"
   ]
  },
  {
   "cell_type": "code",
   "execution_count": 2,
   "metadata": {
    "vscode": {
     "languageId": "r"
    }
   },
   "outputs": [
    {
     "name": "stderr",
     "output_type": "stream",
     "text": [
      "\u001b[1mRows: \u001b[22m\u001b[34m12835\u001b[39m \u001b[1mColumns: \u001b[22m\u001b[34m4\u001b[39m\n",
      "\u001b[36m──\u001b[39m \u001b[1mColumn specification\u001b[22m \u001b[36m────────────────────────────────────────────────────────\u001b[39m\n",
      "\u001b[1mDelimiter:\u001b[22m \",\"\n",
      "\u001b[31mchr\u001b[39m  (2): artistName, trackName\n",
      "\u001b[32mdbl\u001b[39m  (1): msPlayed\n",
      "\u001b[34mdttm\u001b[39m (1): endTime\n",
      "\n",
      "\u001b[36mℹ\u001b[39m Use `spec()` to retrieve the full column specification for this data.\n",
      "\u001b[36mℹ\u001b[39m Specify the column types or set `show_col_types = FALSE` to quiet this message.\n"
     ]
    }
   ],
   "source": [
    "# Cargamos los datos\n",
    "spotifyStream <- read_csv(\"../data/preprocessed/data.csv\")"
   ]
  },
  {
   "cell_type": "markdown",
   "metadata": {},
   "source": [
    "La salida anterior nos muestra que la asignación de los tipos de datos fue correcta.\n",
    "- msPlayed: double\n",
    "- trackName: character\n",
    "- artistName: character\n",
    "- EndTime: date"
   ]
  },
  {
   "cell_type": "code",
   "execution_count": 3,
   "metadata": {
    "vscode": {
     "languageId": "r"
    }
   },
   "outputs": [
    {
     "data": {
      "text/html": [
       "<table class=\"dataframe\">\n",
       "<caption>A tibble: 6 × 4</caption>\n",
       "<thead>\n",
       "\t<tr><th scope=col>endTime</th><th scope=col>artistName</th><th scope=col>trackName</th><th scope=col>msPlayed</th></tr>\n",
       "\t<tr><th scope=col>&lt;dttm&gt;</th><th scope=col>&lt;chr&gt;</th><th scope=col>&lt;chr&gt;</th><th scope=col>&lt;dbl&gt;</th></tr>\n",
       "</thead>\n",
       "<tbody>\n",
       "\t<tr><td>2022-03-29 22:00:00</td><td>Doja Cat      </td><td>Say So             </td><td> 88094</td></tr>\n",
       "\t<tr><td>2022-03-30 23:48:00</td><td>Carla Morrison</td><td>Eres Tú            </td><td>210140</td></tr>\n",
       "\t<tr><td>2022-03-31 21:20:00</td><td>Tessa Violet  </td><td>Bored              </td><td>184401</td></tr>\n",
       "\t<tr><td>2022-03-31 21:24:00</td><td>Porta         </td><td>Animales racionales</td><td>229573</td></tr>\n",
       "\t<tr><td>2022-03-31 21:28:00</td><td>Porta         </td><td>Días Grises        </td><td>233353</td></tr>\n",
       "\t<tr><td>2022-03-31 21:31:00</td><td>Tessa Violet  </td><td>Bad Ideas          </td><td>179173</td></tr>\n",
       "</tbody>\n",
       "</table>\n"
      ],
      "text/latex": [
       "A tibble: 6 × 4\n",
       "\\begin{tabular}{llll}\n",
       " endTime & artistName & trackName & msPlayed\\\\\n",
       " <dttm> & <chr> & <chr> & <dbl>\\\\\n",
       "\\hline\n",
       "\t 2022-03-29 22:00:00 & Doja Cat       & Say So              &  88094\\\\\n",
       "\t 2022-03-30 23:48:00 & Carla Morrison & Eres Tú             & 210140\\\\\n",
       "\t 2022-03-31 21:20:00 & Tessa Violet   & Bored               & 184401\\\\\n",
       "\t 2022-03-31 21:24:00 & Porta          & Animales racionales & 229573\\\\\n",
       "\t 2022-03-31 21:28:00 & Porta          & Días Grises         & 233353\\\\\n",
       "\t 2022-03-31 21:31:00 & Tessa Violet   & Bad Ideas           & 179173\\\\\n",
       "\\end{tabular}\n"
      ],
      "text/markdown": [
       "\n",
       "A tibble: 6 × 4\n",
       "\n",
       "| endTime &lt;dttm&gt; | artistName &lt;chr&gt; | trackName &lt;chr&gt; | msPlayed &lt;dbl&gt; |\n",
       "|---|---|---|---|\n",
       "| 2022-03-29 22:00:00 | Doja Cat       | Say So              |  88094 |\n",
       "| 2022-03-30 23:48:00 | Carla Morrison | Eres Tú             | 210140 |\n",
       "| 2022-03-31 21:20:00 | Tessa Violet   | Bored               | 184401 |\n",
       "| 2022-03-31 21:24:00 | Porta          | Animales racionales | 229573 |\n",
       "| 2022-03-31 21:28:00 | Porta          | Días Grises         | 233353 |\n",
       "| 2022-03-31 21:31:00 | Tessa Violet   | Bad Ideas           | 179173 |\n",
       "\n"
      ],
      "text/plain": [
       "  endTime             artistName     trackName           msPlayed\n",
       "1 2022-03-29 22:00:00 Doja Cat       Say So               88094  \n",
       "2 2022-03-30 23:48:00 Carla Morrison Eres Tú             210140  \n",
       "3 2022-03-31 21:20:00 Tessa Violet   Bored               184401  \n",
       "4 2022-03-31 21:24:00 Porta          Animales racionales 229573  \n",
       "5 2022-03-31 21:28:00 Porta          Días Grises         233353  \n",
       "6 2022-03-31 21:31:00 Tessa Violet   Bad Ideas           179173  "
      ]
     },
     "metadata": {},
     "output_type": "display_data"
    }
   ],
   "source": [
    "# Visualizamos el encabezado del dataset\n",
    "head(spotifyStream)"
   ]
  },
  {
   "cell_type": "code",
   "execution_count": 4,
   "metadata": {
    "vscode": {
     "languageId": "r"
    }
   },
   "outputs": [
    {
     "data": {
      "text/html": [
       "<table class=\"dataframe\">\n",
       "<caption>A tibble: 6 × 4</caption>\n",
       "<thead>\n",
       "\t<tr><th scope=col>endTime</th><th scope=col>artistName</th><th scope=col>trackName</th><th scope=col>msPlayed</th></tr>\n",
       "\t<tr><th scope=col>&lt;dttm&gt;</th><th scope=col>&lt;chr&gt;</th><th scope=col>&lt;chr&gt;</th><th scope=col>&lt;dbl&gt;</th></tr>\n",
       "</thead>\n",
       "<tbody>\n",
       "\t<tr><td>2023-03-31 20:19:00</td><td>Taylor Swift  </td><td>Blank Space                          </td><td>231826</td></tr>\n",
       "\t<tr><td>2023-03-31 20:23:00</td><td>Tessa Violet  </td><td>I Don't Get to Say I Love You Anymore</td><td>210013</td></tr>\n",
       "\t<tr><td>2023-03-31 20:27:00</td><td>Carla Morrison</td><td>Eres Tú                              </td><td>228253</td></tr>\n",
       "\t<tr><td>2023-03-31 20:30:00</td><td>MisterWives   </td><td>3 small words                        </td><td>193026</td></tr>\n",
       "\t<tr><td>2023-03-31 20:34:00</td><td>Tessa Violet  </td><td>Games                                </td><td>221051</td></tr>\n",
       "\t<tr><td>2023-03-31 20:36:00</td><td>Tessa Violet  </td><td>YES MOM                              </td><td>162360</td></tr>\n",
       "</tbody>\n",
       "</table>\n"
      ],
      "text/latex": [
       "A tibble: 6 × 4\n",
       "\\begin{tabular}{llll}\n",
       " endTime & artistName & trackName & msPlayed\\\\\n",
       " <dttm> & <chr> & <chr> & <dbl>\\\\\n",
       "\\hline\n",
       "\t 2023-03-31 20:19:00 & Taylor Swift   & Blank Space                           & 231826\\\\\n",
       "\t 2023-03-31 20:23:00 & Tessa Violet   & I Don't Get to Say I Love You Anymore & 210013\\\\\n",
       "\t 2023-03-31 20:27:00 & Carla Morrison & Eres Tú                               & 228253\\\\\n",
       "\t 2023-03-31 20:30:00 & MisterWives    & 3 small words                         & 193026\\\\\n",
       "\t 2023-03-31 20:34:00 & Tessa Violet   & Games                                 & 221051\\\\\n",
       "\t 2023-03-31 20:36:00 & Tessa Violet   & YES MOM                               & 162360\\\\\n",
       "\\end{tabular}\n"
      ],
      "text/markdown": [
       "\n",
       "A tibble: 6 × 4\n",
       "\n",
       "| endTime &lt;dttm&gt; | artistName &lt;chr&gt; | trackName &lt;chr&gt; | msPlayed &lt;dbl&gt; |\n",
       "|---|---|---|---|\n",
       "| 2023-03-31 20:19:00 | Taylor Swift   | Blank Space                           | 231826 |\n",
       "| 2023-03-31 20:23:00 | Tessa Violet   | I Don't Get to Say I Love You Anymore | 210013 |\n",
       "| 2023-03-31 20:27:00 | Carla Morrison | Eres Tú                               | 228253 |\n",
       "| 2023-03-31 20:30:00 | MisterWives    | 3 small words                         | 193026 |\n",
       "| 2023-03-31 20:34:00 | Tessa Violet   | Games                                 | 221051 |\n",
       "| 2023-03-31 20:36:00 | Tessa Violet   | YES MOM                               | 162360 |\n",
       "\n"
      ],
      "text/plain": [
       "  endTime             artistName     trackName                            \n",
       "1 2023-03-31 20:19:00 Taylor Swift   Blank Space                          \n",
       "2 2023-03-31 20:23:00 Tessa Violet   I Don't Get to Say I Love You Anymore\n",
       "3 2023-03-31 20:27:00 Carla Morrison Eres Tú                              \n",
       "4 2023-03-31 20:30:00 MisterWives    3 small words                        \n",
       "5 2023-03-31 20:34:00 Tessa Violet   Games                                \n",
       "6 2023-03-31 20:36:00 Tessa Violet   YES MOM                              \n",
       "  msPlayed\n",
       "1 231826  \n",
       "2 210013  \n",
       "3 228253  \n",
       "4 193026  \n",
       "5 221051  \n",
       "6 162360  "
      ]
     },
     "metadata": {},
     "output_type": "display_data"
    }
   ],
   "source": [
    "# Visualizamos el pie de los datos\n",
    "tail(spotifyStream)"
   ]
  },
  {
   "cell_type": "code",
   "execution_count": 5,
   "metadata": {
    "vscode": {
     "languageId": "r"
    }
   },
   "outputs": [
    {
     "name": "stdout",
     "output_type": "stream",
     "text": [
      "spc_tbl_ [12,835 × 4] (S3: spec_tbl_df/tbl_df/tbl/data.frame)\n",
      " $ endTime   : POSIXct[1:12835], format: \"2022-03-29 22:00:00\" \"2022-03-30 23:48:00\" ...\n",
      " $ artistName: chr [1:12835] \"Doja Cat\" \"Carla Morrison\" \"Tessa Violet\" \"Porta\" ...\n",
      " $ trackName : chr [1:12835] \"Say So\" \"Eres Tú\" \"Bored\" \"Animales racionales\" ...\n",
      " $ msPlayed  : num [1:12835] 88094 210140 184401 229573 233353 ...\n",
      " - attr(*, \"spec\")=\n",
      "  .. cols(\n",
      "  ..   endTime = \u001b[34mcol_datetime(format = \"\")\u001b[39m,\n",
      "  ..   artistName = \u001b[31mcol_character()\u001b[39m,\n",
      "  ..   trackName = \u001b[31mcol_character()\u001b[39m,\n",
      "  ..   msPlayed = \u001b[32mcol_double()\u001b[39m\n",
      "  .. )\n",
      " - attr(*, \"problems\")=<externalptr> \n"
     ]
    }
   ],
   "source": [
    "# Visualizamos la estructura de los datos\n",
    "str(spotifyStream)"
   ]
  },
  {
   "cell_type": "markdown",
   "metadata": {},
   "source": [
    "La función `str` nos muestra la estructura de un objeto.\n",
    "\n",
    "Puede encontrar más información en el siguiente enlace [`str`](https://www.rdocumentation.org/packages/utils/versions/3.6.2/topics/str)."
   ]
  },
  {
   "cell_type": "code",
   "execution_count": 6,
   "metadata": {
    "vscode": {
     "languageId": "r"
    }
   },
   "outputs": [
    {
     "data": {
      "text/html": [
       "0"
      ],
      "text/latex": [
       "0"
      ],
      "text/markdown": [
       "0"
      ],
      "text/plain": [
       "[1] 0"
      ]
     },
     "metadata": {},
     "output_type": "display_data"
    }
   ],
   "source": [
    "# Verificamos valores nulos\n",
    "sum(is.na(spotifyStream))"
   ]
  },
  {
   "cell_type": "markdown",
   "metadata": {},
   "source": [
    "La función `is.na()` nos permite identificar los valores faltantes.\n",
    "La función `sum()` nos permite sumar los valores.\n",
    "\n",
    "Puede encontrar más información en los siguientes enlaces:\n",
    "- [is.na()](https://www.rdocumentation.org/packages/base/versions/3.6.2/topics/is.na)\n",
    "- [sum()](https://www.rdocumentation.org/packages/base/versions/3.6.2/topics/sum)"
   ]
  },
  {
   "cell_type": "code",
   "execution_count": 7,
   "metadata": {
    "vscode": {
     "languageId": "r"
    }
   },
   "outputs": [
    {
     "data": {
      "text/html": [
       "157"
      ],
      "text/latex": [
       "157"
      ],
      "text/markdown": [
       "157"
      ],
      "text/plain": [
       "[1] 157"
      ]
     },
     "metadata": {},
     "output_type": "display_data"
    },
    {
     "data": {
      "text/html": [
       "479"
      ],
      "text/latex": [
       "479"
      ],
      "text/markdown": [
       "479"
      ],
      "text/plain": [
       "[1] 479"
      ]
     },
     "metadata": {},
     "output_type": "display_data"
    }
   ],
   "source": [
    "# Verificamos la cantidad de valores únicos que hay en cada columna\n",
    "length(unique(spotifyStream$artistName)) # Artistas únicos\n",
    "length(unique(spotifyStream$trackName)) # Canciones únicas"
   ]
  },
  {
   "cell_type": "markdown",
   "metadata": {},
   "source": [
    "La función `unique()` nos permite obtener los valores únicos de una columna y la función `length()` nos permite obtener la longitud de un vector.\n",
    "\n",
    "Puede encontrar más información en los siguientes enlaces:\n",
    "- [unique()](https://www.rdocumentation.org/packages/base/versions/3.6.2/topics/unique)\n",
    "- [length()](https://www.rdocumentation.org/packages/base/versions/3.6.2/topics/length)\n",
    "\n",
    "En nuestros datos podemos ver que tenemos 157 artistas únicos y 479 canciones únicas."
   ]
  },
  {
   "cell_type": "markdown",
   "metadata": {},
   "source": [
    "## 1.2 Limpieza y formateo"
   ]
  },
  {
   "cell_type": "markdown",
   "metadata": {},
   "source": [
    "El paquete `readr` se encargo de indicar que la columna `endTime` contiene una fecha y hora, por lo que para su correcta manipulación utilizaremos el paquete `lubridate` que nos permite trabajar con fechas y horas.\n",
    "\n",
    "Puede encontrar más información sobre el paquete en el siguiente enlace: [lubridate](https://lubridate.tidyverse.org/)\n",
    "\n",
    "Las funciones que utilizaremos son:\n",
    "- `day()` para obtener el día\n",
    "- `month()` para obtener el mes\n",
    "- `year()` para obtener el año\n",
    "- `wday()` para obtener el día de la semana\n",
    "- `hour()` para obtener la hora\n",
    "- `weekdays()` para obtener el nombre del día de la semana\n",
    "\n",
    "Para agregar las nuevas columnas utilizaremos la función `mutate()` del paquete `dplyr` y el operador `|>` que nos permite encadenar funciones.\n",
    "\n",
    "Puede encontrar más información sobre el paquete en los siguientes enlaces: [dplyr](https://dplyr.tidyverse.org/) y [mutate](https://dplyr.tidyverse.org/reference/mutate.html)"
   ]
  },
  {
   "cell_type": "code",
   "execution_count": 8,
   "metadata": {
    "vscode": {
     "languageId": "r"
    }
   },
   "outputs": [],
   "source": [
    "# Extraemos el dia, mes, año y dia de la semana de la columna endTime\n",
    "spotifyStream <- spotifyStream |>\n",
    "  mutate(hour = hour(endTime)) |>\n",
    "  mutate(day = day(endTime)) |>\n",
    "  mutate(month = month(endTime)) |>\n",
    "  mutate(year = year(endTime)) |>\n",
    "  mutate(weekday = wday(endTime), weekdayName = weekdays(endTime))\n"
   ]
  },
  {
   "cell_type": "markdown",
   "metadata": {},
   "source": [
    "La información de las columnas agregadas es la siguiente:\n",
    "- `hour`: Hora de la reproducción\n",
    "- `day`: Día de la reproducción\n",
    "- `month`: Mes de la reproducción\n",
    "- `year`: Año de la reproducción\n",
    "- `weekday`: Día de la semana de la reproducción\n",
    "- `weekdayName`: Nombre del día de la semana de la reproducción"
   ]
  },
  {
   "cell_type": "markdown",
   "metadata": {},
   "source": [
    "La columna `msPlayed` contiene el tiempo que se reprodujo la canción en milisegundos, por lo que necesitamos convertirlo a minutos para que sea más fácil de leer.\n",
    "Aprovecharemos para crear también una columna con el tiempo de reproducción en horas."
   ]
  },
  {
   "cell_type": "code",
   "execution_count": 9,
   "metadata": {
    "vscode": {
     "languageId": "r"
    }
   },
   "outputs": [],
   "source": [
    "spotifyStream <- spotifyStream |>\n",
    "  mutate(minutesPlayed = msPlayed / 60000) |> # Convertir ms a minutos\n",
    "  mutate(hoursPlayed = msPlayed / 3600000) # Convertir ms a horas"
   ]
  },
  {
   "cell_type": "markdown",
   "metadata": {},
   "source": [
    "Ahora eliminamos las columnas que ya no necesitamos, utilizando la función `select()` del paquete `dplyr`.\n",
    "\n",
    "Puede encontrar más información sobre la función en el siguiente enlace: [select()](https://dplyr.tidyverse.org/reference/select.html)"
   ]
  },
  {
   "cell_type": "code",
   "execution_count": 10,
   "metadata": {
    "vscode": {
     "languageId": "r"
    }
   },
   "outputs": [],
   "source": [
    "spotifyStream <- spotifyStream |>\n",
    "  select(-msPlayed) |> # Eliminamos la columna msPlayed\n",
    "  select(-endTime) # Eliminamos la columna endTime"
   ]
  },
  {
   "cell_type": "markdown",
   "metadata": {},
   "source": [
    "Revisamos algunas métricas de los datos utilizando la función `summary()` del paquete base de R.\n",
    "\n",
    "Puede encontrar más información sobre la función en el siguiente enlace: [summary()](https://www.rdocumentation.org/packages/base/versions/3.6.2/topics/summary)"
   ]
  },
  {
   "cell_type": "code",
   "execution_count": 11,
   "metadata": {
    "vscode": {
     "languageId": "r"
    }
   },
   "outputs": [
    {
     "data": {
      "text/plain": [
       "  artistName         trackName              hour            day       \n",
       " Length:12835       Length:12835       Min.   : 0.00   Min.   : 1.00  \n",
       " Class :character   Class :character   1st Qu.:11.00   1st Qu.: 8.00  \n",
       " Mode  :character   Mode  :character   Median :16.00   Median :16.00  \n",
       "                                       Mean   :13.94   Mean   :15.88  \n",
       "                                       3rd Qu.:20.00   3rd Qu.:24.00  \n",
       "                                       Max.   :23.00   Max.   :31.00  \n",
       "     month             year         weekday      weekdayName       \n",
       " Min.   : 1.000   Min.   :2022   Min.   :1.000   Length:12835      \n",
       " 1st Qu.: 3.000   1st Qu.:2022   1st Qu.:2.000   Class :character  \n",
       " Median : 7.000   Median :2022   Median :4.000   Mode  :character  \n",
       " Mean   : 6.191   Mean   :2022   Mean   :3.949                     \n",
       " 3rd Qu.: 8.000   3rd Qu.:2023   3rd Qu.:6.000                     \n",
       " Max.   :12.000   Max.   :2023   Max.   :7.000                     \n",
       " minutesPlayed      hoursPlayed     \n",
       " Min.   : 0.0000   Min.   :0.00000  \n",
       " 1st Qu.: 0.2664   1st Qu.:0.00444  \n",
       " Median : 3.0734   Median :0.05122  \n",
       " Mean   : 2.5090   Mean   :0.04182  \n",
       " 3rd Qu.: 3.6371   3rd Qu.:0.06062  \n",
       " Max.   :11.7505   Max.   :0.19584  "
      ]
     },
     "metadata": {},
     "output_type": "display_data"
    }
   ],
   "source": [
    "summary(spotifyStream)"
   ]
  },
  {
   "cell_type": "markdown",
   "metadata": {},
   "source": [
    "## 1.3 Exportación"
   ]
  },
  {
   "cell_type": "markdown",
   "metadata": {},
   "source": [
    "Finalmente utilizamos la función `write_csv()` del paquete `readr` para guardar el archivo en formato csv.\n",
    "\n",
    "Puede encontrar más información sobre esta función en el siguiente enlace: [readr](https://readr.tidyverse.org/reference/write_delim.html).\n"
   ]
  },
  {
   "cell_type": "code",
   "execution_count": 12,
   "metadata": {
    "vscode": {
     "languageId": "r"
    }
   },
   "outputs": [],
   "source": [
    "write_csv(spotifyStream, \"../data/processed/spotifyStream.csv\")"
   ]
  }
 ],
 "metadata": {
  "kernelspec": {
   "display_name": "R",
   "language": "R",
   "name": "ir"
  },
  "language_info": {
   "codemirror_mode": "r",
   "file_extension": ".r",
   "mimetype": "text/x-r-source",
   "name": "R",
   "pygments_lexer": "r",
   "version": "4.3.1"
  },
  "orig_nbformat": 4
 },
 "nbformat": 4,
 "nbformat_minor": 2
}
